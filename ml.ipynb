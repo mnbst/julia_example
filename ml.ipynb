{
 "cells": [
  {
   "cell_type": "code",
   "execution_count": 2,
   "metadata": {},
   "outputs": [
    {
     "name": "stderr",
     "output_type": "stream",
     "text": [
      "\u001b[32m\u001b[1m   Resolving\u001b[22m\u001b[39m package versions...\n"
     ]
    },
    {
     "name": "stderr",
     "output_type": "stream",
     "text": [
      "\u001b[32m\u001b[1m  No Changes\u001b[22m\u001b[39m to `~/.julia/environments/v1.6/Project.toml`\n",
      "\u001b[32m\u001b[1m  No Changes\u001b[22m\u001b[39m to `~/.julia/environments/v1.6/Manifest.toml`\n"
     ]
    }
   ],
   "source": [
    "using Pkg\n",
    "Pkg.add(\"ScikitLearn\")"
   ]
  },
  {
   "cell_type": "code",
   "execution_count": 18,
   "metadata": {},
   "outputs": [
    {
     "data": {
      "text/html": [
       "<table class=\"data-frame\"><thead><tr><th></th><th>sepal_length</th><th>sepal_width</th><th>petal_length</th><th>petal_width</th><th>variety</th></tr><tr><th></th><th>Float64</th><th>Float64</th><th>Float64</th><th>Float64</th><th>String15</th></tr></thead><tbody><p>150 rows × 5 columns</p><tr><th>1</th><td>5.1</td><td>3.5</td><td>1.4</td><td>0.2</td><td>Setosa</td></tr><tr><th>2</th><td>4.9</td><td>3.0</td><td>1.4</td><td>0.2</td><td>Setosa</td></tr><tr><th>3</th><td>4.7</td><td>3.2</td><td>1.3</td><td>0.2</td><td>Setosa</td></tr><tr><th>4</th><td>4.6</td><td>3.1</td><td>1.5</td><td>0.2</td><td>Setosa</td></tr><tr><th>5</th><td>5.0</td><td>3.6</td><td>1.4</td><td>0.2</td><td>Setosa</td></tr><tr><th>6</th><td>5.4</td><td>3.9</td><td>1.7</td><td>0.4</td><td>Setosa</td></tr><tr><th>7</th><td>4.6</td><td>3.4</td><td>1.4</td><td>0.3</td><td>Setosa</td></tr><tr><th>8</th><td>5.0</td><td>3.4</td><td>1.5</td><td>0.2</td><td>Setosa</td></tr><tr><th>9</th><td>4.4</td><td>2.9</td><td>1.4</td><td>0.2</td><td>Setosa</td></tr><tr><th>10</th><td>4.9</td><td>3.1</td><td>1.5</td><td>0.1</td><td>Setosa</td></tr><tr><th>11</th><td>5.4</td><td>3.7</td><td>1.5</td><td>0.2</td><td>Setosa</td></tr><tr><th>12</th><td>4.8</td><td>3.4</td><td>1.6</td><td>0.2</td><td>Setosa</td></tr><tr><th>13</th><td>4.8</td><td>3.0</td><td>1.4</td><td>0.1</td><td>Setosa</td></tr><tr><th>14</th><td>4.3</td><td>3.0</td><td>1.1</td><td>0.1</td><td>Setosa</td></tr><tr><th>15</th><td>5.8</td><td>4.0</td><td>1.2</td><td>0.2</td><td>Setosa</td></tr><tr><th>16</th><td>5.7</td><td>4.4</td><td>1.5</td><td>0.4</td><td>Setosa</td></tr><tr><th>17</th><td>5.4</td><td>3.9</td><td>1.3</td><td>0.4</td><td>Setosa</td></tr><tr><th>18</th><td>5.1</td><td>3.5</td><td>1.4</td><td>0.3</td><td>Setosa</td></tr><tr><th>19</th><td>5.7</td><td>3.8</td><td>1.7</td><td>0.3</td><td>Setosa</td></tr><tr><th>20</th><td>5.1</td><td>3.8</td><td>1.5</td><td>0.3</td><td>Setosa</td></tr><tr><th>21</th><td>5.4</td><td>3.4</td><td>1.7</td><td>0.2</td><td>Setosa</td></tr><tr><th>22</th><td>5.1</td><td>3.7</td><td>1.5</td><td>0.4</td><td>Setosa</td></tr><tr><th>23</th><td>4.6</td><td>3.6</td><td>1.0</td><td>0.2</td><td>Setosa</td></tr><tr><th>24</th><td>5.1</td><td>3.3</td><td>1.7</td><td>0.5</td><td>Setosa</td></tr><tr><th>&vellip;</th><td>&vellip;</td><td>&vellip;</td><td>&vellip;</td><td>&vellip;</td><td>&vellip;</td></tr></tbody></table>"
      ],
      "text/latex": [
       "\\begin{tabular}{r|ccccc}\n",
       "\t& sepal\\_length & sepal\\_width & petal\\_length & petal\\_width & variety\\\\\n",
       "\t\\hline\n",
       "\t& Float64 & Float64 & Float64 & Float64 & String15\\\\\n",
       "\t\\hline\n",
       "\t1 & 5.1 & 3.5 & 1.4 & 0.2 & Setosa \\\\\n",
       "\t2 & 4.9 & 3.0 & 1.4 & 0.2 & Setosa \\\\\n",
       "\t3 & 4.7 & 3.2 & 1.3 & 0.2 & Setosa \\\\\n",
       "\t4 & 4.6 & 3.1 & 1.5 & 0.2 & Setosa \\\\\n",
       "\t5 & 5.0 & 3.6 & 1.4 & 0.2 & Setosa \\\\\n",
       "\t6 & 5.4 & 3.9 & 1.7 & 0.4 & Setosa \\\\\n",
       "\t7 & 4.6 & 3.4 & 1.4 & 0.3 & Setosa \\\\\n",
       "\t8 & 5.0 & 3.4 & 1.5 & 0.2 & Setosa \\\\\n",
       "\t9 & 4.4 & 2.9 & 1.4 & 0.2 & Setosa \\\\\n",
       "\t10 & 4.9 & 3.1 & 1.5 & 0.1 & Setosa \\\\\n",
       "\t11 & 5.4 & 3.7 & 1.5 & 0.2 & Setosa \\\\\n",
       "\t12 & 4.8 & 3.4 & 1.6 & 0.2 & Setosa \\\\\n",
       "\t13 & 4.8 & 3.0 & 1.4 & 0.1 & Setosa \\\\\n",
       "\t14 & 4.3 & 3.0 & 1.1 & 0.1 & Setosa \\\\\n",
       "\t15 & 5.8 & 4.0 & 1.2 & 0.2 & Setosa \\\\\n",
       "\t16 & 5.7 & 4.4 & 1.5 & 0.4 & Setosa \\\\\n",
       "\t17 & 5.4 & 3.9 & 1.3 & 0.4 & Setosa \\\\\n",
       "\t18 & 5.1 & 3.5 & 1.4 & 0.3 & Setosa \\\\\n",
       "\t19 & 5.7 & 3.8 & 1.7 & 0.3 & Setosa \\\\\n",
       "\t20 & 5.1 & 3.8 & 1.5 & 0.3 & Setosa \\\\\n",
       "\t21 & 5.4 & 3.4 & 1.7 & 0.2 & Setosa \\\\\n",
       "\t22 & 5.1 & 3.7 & 1.5 & 0.4 & Setosa \\\\\n",
       "\t23 & 4.6 & 3.6 & 1.0 & 0.2 & Setosa \\\\\n",
       "\t24 & 5.1 & 3.3 & 1.7 & 0.5 & Setosa \\\\\n",
       "\t$\\dots$ & $\\dots$ & $\\dots$ & $\\dots$ & $\\dots$ & $\\dots$ \\\\\n",
       "\\end{tabular}\n"
      ],
      "text/plain": [
       "\u001b[1m150×5 DataFrame\u001b[0m\n",
       "\u001b[1m Row \u001b[0m│\u001b[1m sepal_length \u001b[0m\u001b[1m sepal_width \u001b[0m\u001b[1m petal_length \u001b[0m\u001b[1m petal_width \u001b[0m\u001b[1m variety   \u001b[0m\n",
       "\u001b[1m     \u001b[0m│\u001b[90m Float64      \u001b[0m\u001b[90m Float64     \u001b[0m\u001b[90m Float64      \u001b[0m\u001b[90m Float64     \u001b[0m\u001b[90m String15  \u001b[0m\n",
       "─────┼─────────────────────────────────────────────────────────────────\n",
       "   1 │          5.1          3.5           1.4          0.2  Setosa\n",
       "   2 │          4.9          3.0           1.4          0.2  Setosa\n",
       "   3 │          4.7          3.2           1.3          0.2  Setosa\n",
       "   4 │          4.6          3.1           1.5          0.2  Setosa\n",
       "   5 │          5.0          3.6           1.4          0.2  Setosa\n",
       "   6 │          5.4          3.9           1.7          0.4  Setosa\n",
       "   7 │          4.6          3.4           1.4          0.3  Setosa\n",
       "   8 │          5.0          3.4           1.5          0.2  Setosa\n",
       "  ⋮  │      ⋮             ⋮            ⋮             ⋮           ⋮\n",
       " 144 │          6.8          3.2           5.9          2.3  Virginica\n",
       " 145 │          6.7          3.3           5.7          2.5  Virginica\n",
       " 146 │          6.7          3.0           5.2          2.3  Virginica\n",
       " 147 │          6.3          2.5           5.0          1.9  Virginica\n",
       " 148 │          6.5          3.0           5.2          2.0  Virginica\n",
       " 149 │          6.2          3.4           5.4          2.3  Virginica\n",
       " 150 │          5.9          3.0           5.1          1.8  Virginica\n",
       "\u001b[36m                                                       135 rows omitted\u001b[0m"
      ]
     },
     "metadata": {},
     "output_type": "display_data"
    }
   ],
   "source": [
    "using ScikitLearn, CSV, DataFrames\n",
    "iris = CSV.read(\"iris.csv\", DataFrame, normalizenames=true)"
   ]
  },
  {
   "cell_type": "code",
   "execution_count": 19,
   "metadata": {},
   "outputs": [
    {
     "data": {
      "text/plain": [
       "150×4 Matrix{Float64}:\n",
       " 5.1  3.5  1.4  0.2\n",
       " 4.9  3.0  1.4  0.2\n",
       " 4.7  3.2  1.3  0.2\n",
       " 4.6  3.1  1.5  0.2\n",
       " 5.0  3.6  1.4  0.2\n",
       " 5.4  3.9  1.7  0.4\n",
       " 4.6  3.4  1.4  0.3\n",
       " 5.0  3.4  1.5  0.2\n",
       " 4.4  2.9  1.4  0.2\n",
       " 4.9  3.1  1.5  0.1\n",
       " ⋮              \n",
       " 6.9  3.1  5.1  2.3\n",
       " 5.8  2.7  5.1  1.9\n",
       " 6.8  3.2  5.9  2.3\n",
       " 6.7  3.3  5.7  2.5\n",
       " 6.7  3.0  5.2  2.3\n",
       " 6.3  2.5  5.0  1.9\n",
       " 6.5  3.0  5.2  2.0\n",
       " 6.2  3.4  5.4  2.3\n",
       " 5.9  3.0  5.1  1.8"
      ]
     },
     "metadata": {},
     "output_type": "display_data"
    }
   ],
   "source": [
    "iris_x=convert(Array,iris[:,[1,2,3,4]])"
   ]
  },
  {
   "cell_type": "code",
   "execution_count": 20,
   "metadata": {},
   "outputs": [
    {
     "data": {
      "text/plain": [
       "150-element Vector{String15}:\n",
       " \"Setosa\"\n",
       " \"Setosa\"\n",
       " \"Setosa\"\n",
       " \"Setosa\"\n",
       " \"Setosa\"\n",
       " \"Setosa\"\n",
       " \"Setosa\"\n",
       " \"Setosa\"\n",
       " \"Setosa\"\n",
       " \"Setosa\"\n",
       " ⋮\n",
       " \"Virginica\"\n",
       " \"Virginica\"\n",
       " \"Virginica\"\n",
       " \"Virginica\"\n",
       " \"Virginica\"\n",
       " \"Virginica\"\n",
       " \"Virginica\"\n",
       " \"Virginica\"\n",
       " \"Virginica\""
      ]
     },
     "metadata": {},
     "output_type": "display_data"
    }
   ],
   "source": [
    "iris_y=convert(Array,iris[:,5])"
   ]
  },
  {
   "cell_type": "code",
   "execution_count": 23,
   "metadata": {},
   "outputs": [
    {
     "name": "stderr",
     "output_type": "stream",
     "text": [
      "WARNING: redefinition of constant LogisticRegression. This may fail, cause incorrect answers, or produce other errors.\n"
     ]
    },
    {
     "data": {
      "text/plain": [
       "PyObject <class 'sklearn.linear_model._logistic.LogisticRegression'>"
      ]
     },
     "metadata": {},
     "output_type": "display_data"
    }
   ],
   "source": [
    "@sk_import linear_model: LogisticRegression"
   ]
  },
  {
   "cell_type": "code",
   "execution_count": 24,
   "metadata": {},
   "outputs": [
    {
     "data": {
      "text/plain": [
       "PyObject LogisticRegression()"
      ]
     },
     "metadata": {},
     "output_type": "display_data"
    }
   ],
   "source": [
    "log_reg_model=LogisticRegression()"
   ]
  },
  {
   "cell_type": "code",
   "execution_count": 25,
   "metadata": {},
   "outputs": [
    {
     "name": "stderr",
     "output_type": "stream",
     "text": [
      "/Users/gaku/.julia/conda/3/lib/python3.9/site-packages/sklearn/linear_model/_logistic.py:814: ConvergenceWarning: lbfgs failed to converge (status=1):\n",
      "STOP: TOTAL NO. of ITERATIONS REACHED LIMIT.\n",
      "\n",
      "Increase the number of iterations (max_iter) or scale the data as shown in:\n",
      "    https://scikit-learn.org/stable/modules/preprocessing.html\n",
      "Please also refer to the documentation for alternative solver options:\n",
      "    https://scikit-learn.org/stable/modules/linear_model.html#logistic-regression\n",
      "  n_iter_i = _check_optimize_result(\n"
     ]
    },
    {
     "data": {
      "text/plain": [
       "PyObject LogisticRegression()"
      ]
     },
     "metadata": {},
     "output_type": "display_data"
    }
   ],
   "source": [
    "fit!(log_reg_model,iris_x,iris_y)"
   ]
  },
  {
   "cell_type": "code",
   "execution_count": 26,
   "metadata": {},
   "outputs": [
    {
     "data": {
      "text/plain": [
       "150-element Vector{Any}:\n",
       " \"Setosa\"\n",
       " \"Setosa\"\n",
       " \"Setosa\"\n",
       " \"Setosa\"\n",
       " \"Setosa\"\n",
       " \"Setosa\"\n",
       " \"Setosa\"\n",
       " \"Setosa\"\n",
       " \"Setosa\"\n",
       " \"Setosa\"\n",
       " ⋮\n",
       " \"Virginica\"\n",
       " \"Virginica\"\n",
       " \"Virginica\"\n",
       " \"Virginica\"\n",
       " \"Virginica\"\n",
       " \"Virginica\"\n",
       " \"Virginica\"\n",
       " \"Virginica\"\n",
       " \"Virginica\""
      ]
     },
     "metadata": {},
     "output_type": "display_data"
    }
   ],
   "source": [
    "predictions=predict(log_reg_model,iris_x)"
   ]
  },
  {
   "cell_type": "code",
   "execution_count": 27,
   "metadata": {},
   "outputs": [
    {
     "data": {
      "text/plain": [
       "PyObject <function accuracy_score at 0x1816958b0>"
      ]
     },
     "metadata": {},
     "output_type": "display_data"
    }
   ],
   "source": [
    "@sk_import metrics: accuracy_score"
   ]
  },
  {
   "cell_type": "code",
   "execution_count": 28,
   "metadata": {},
   "outputs": [
    {
     "data": {
      "text/plain": [
       "0.9733333333333334"
      ]
     },
     "metadata": {},
     "output_type": "display_data"
    }
   ],
   "source": [
    "accuracy=accuracy_score(predictions, iris_y)"
   ]
  },
  {
   "cell_type": "code",
   "execution_count": null,
   "metadata": {},
   "outputs": [],
   "source": []
  }
 ],
 "metadata": {
  "kernelspec": {
   "display_name": "Julia 1.6.6",
   "language": "julia",
   "name": "julia-1.6"
  },
  "language_info": {
   "file_extension": ".jl",
   "mimetype": "application/julia",
   "name": "julia",
   "version": "1.6.6"
  },
  "orig_nbformat": 4
 },
 "nbformat": 4,
 "nbformat_minor": 2
}
